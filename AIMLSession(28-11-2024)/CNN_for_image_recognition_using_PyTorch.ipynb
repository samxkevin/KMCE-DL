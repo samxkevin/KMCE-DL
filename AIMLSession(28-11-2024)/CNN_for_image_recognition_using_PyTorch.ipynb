{
 "cells": [
  {
   "cell_type": "markdown",
   "metadata": {
    "id": "MLGfkl8LsDj2"
   },
   "source": [
    "\n",
    "**Building a simple Convolutional Neural Network (CNN) for image recognition using PyTorch.**"
   ]
  },
  {
   "cell_type": "code",
   "execution_count": 1,
   "metadata": {
    "colab": {
     "base_uri": "https://localhost:8080/"
    },
    "id": "iF44MgQIuLW7",
    "outputId": "b327a2ba-9796-47d9-b226-b14272f12747"
   },
   "outputs": [
    {
     "name": "stdout",
     "output_type": "stream",
     "text": [
      "2.5.1+cpu\n"
     ]
    }
   ],
   "source": [
    "#1. Installing Required Libraries\n",
    "# Make sure PyTorch is installed. Install it using:\n",
    "\n",
    "#pip install torch torchvision matplotlib\n",
    "\n",
    "import torch\n",
    "print(torch.__version__)\n"
   ]
  },
  {
   "cell_type": "code",
   "execution_count": 2,
   "metadata": {
    "id": "UwVK-HpKuSRJ"
   },
   "outputs": [],
   "source": [
    "#2. Importing Libraries\n",
    "\n",
    "import torch\n",
    "import torch.nn as nn\n",
    "import torch.optim as optim\n",
    "from torchvision import datasets, transforms\n",
    "from torch.utils.data import DataLoader\n",
    "import matplotlib.pyplot as plt\n",
    "\n"
   ]
  },
  {
   "cell_type": "code",
   "execution_count": null,
   "metadata": {
    "id": "8f4NK9_CuUOO"
   },
   "outputs": [],
   "source": [
    "#3. Loading and Preprocessing the Data\n",
    "# Key Functions:\n",
    "\n",
    "#transforms.ToTensor(): Converts images to PyTorch tensors.\n",
    "\n",
    "#transforms.Normalize((mean,), (std,)): Normalizes image pixel values.\n",
    "\n",
    "#DataLoader: Handles batching, shuffling, and parallel data loading.\n",
    "\n",
    "\n",
    "\n",
    "# Transform to normalize and convert images to tensors\n",
    "transform = transforms.Compose([\n",
    "    transforms.ToTensor(),\n",
    "    transforms.Normalize((0.5,), (0.5,))  # Normalize to range [-1, 1], we do this for uniformity purposes\n",
    "])\n",
    "\n",
    "# Download and load the MNIST dataset\n",
    "train_dataset = datasets.MNIST(root='./data', train=True, transform=transform, download=True)#must be completely different from test data...\n",
    "test_dataset = datasets.MNIST(root='./data', train=False, transform=transform, download=True)#generally we have validation datasets also but lets go on to it later...\n",
    "\n",
    "# Data loaders for batching\n",
    "train_loader = DataLoader(dataset=train_dataset, batch_size=64, shuffle=True)#data loader gives the data to the neural network in batch format\n",
    "test_loader = DataLoader(dataset=test_dataset, batch_size=64, shuffle=False)\n"
   ]
  },
  {
   "cell_type": "code",
   "execution_count": null,
   "metadata": {
    "id": "-sA9yopSutAs"
   },
   "outputs": [],
   "source": [
    "# 4. Defining the CNN Model\n",
    "\n",
    "class CNN(nn.Module):\n",
    "    def __init__(self):\n",
    "        super(CNN, self).__init__()#flexiblity to the user\n",
    "        # Convolutional layer, Channel means color monochrome so one, weights 32*9 - parameters\n",
    "        self.conv1 = nn.Conv2d(in_channels=1, out_channels=32, kernel_size=3, stride=1, padding=1)#padding is done to avoid giving less attention to the pixels in the \"edges\" of the image. output size: [(W-K+2P)/s]+1 \n",
    "        # Max-pooling layer\n",
    "        self.pool = nn.MaxPool2d(kernel_size=2, stride=2)#image will condensed to half of the size of earlier feature maps\n",
    "        # Fully connected layers\n",
    "        self.fc1 = nn.Linear(32 * 14 * 14, 128)#one layer 32*14*14*128, completely 32*14*14*128+32*9 - parameters\n",
    "        self.fc2 = nn.Linear(128, 10)  # 10 classes for digits 0-9\n",
    "\n",
    "    def forward(self, x):# x is an array an image... 28*28\n",
    "\n",
    "        x = torch.relu(self.conv1(x))  # Apply ReLU after convolution, x is 64*28*28 (since we have 64 batches)\n",
    "        x = self.pool(x)  # Apply max pooling\n",
    "        x = x.view(x.size(0), -1)  # Flatten the feature map(2d and 64 is retained)\n",
    "        x = torch.relu(self.fc1(x))  # Fully connected layer with ReLU\n",
    "        x = self.fc2(x)  # Output layer (no activation; handled by loss function), dimensions become 64*10\n",
    "        return x\n",
    "\n",
    "\n",
    "\n"
   ]
  },
  {
   "cell_type": "code",
   "execution_count": null,
   "metadata": {
    "colab": {
     "base_uri": "https://localhost:8080/"
    },
    "id": "Huv8ifxZ0Dxs",
    "outputId": "e69a22b8-2e25-45ae-eed9-8643fa4a76ef"
   },
   "outputs": [
    {
     "name": "stdout",
     "output_type": "stream",
     "text": [
      "[Parameter containing:\n",
      "tensor([[[[ 0.1154, -0.3168, -0.1498],\n",
      "          [-0.1384, -0.2459,  0.0334],\n",
      "          [-0.1107, -0.0815,  0.1763]]],\n",
      "\n",
      "\n",
      "        [[[-0.2970,  0.1310, -0.0562],\n",
      "          [-0.0825, -0.1250, -0.2719],\n",
      "          [-0.1645, -0.1145,  0.0631]]],\n",
      "\n",
      "\n",
      "        [[[ 0.0459,  0.3112, -0.1478],\n",
      "          [ 0.0198, -0.3284, -0.2580],\n",
      "          [-0.0107, -0.1478, -0.3242]]],\n",
      "\n",
      "\n",
      "        [[[-0.0050, -0.2627,  0.1337],\n",
      "          [-0.2508, -0.2026, -0.0050],\n",
      "          [ 0.2191,  0.1001, -0.0049]]],\n",
      "\n",
      "\n",
      "        [[[-0.3072, -0.1306, -0.2196],\n",
      "          [-0.2684, -0.2767,  0.0391],\n",
      "          [ 0.2396,  0.0653,  0.3195]]],\n",
      "\n",
      "\n",
      "        [[[ 0.2810, -0.0360, -0.0781],\n",
      "          [ 0.1951, -0.1319,  0.2239],\n",
      "          [-0.2029, -0.3299,  0.1391]]],\n",
      "\n",
      "\n",
      "        [[[ 0.0968,  0.0011, -0.1338],\n",
      "          [-0.0590,  0.2167, -0.1396],\n",
      "          [ 0.0913,  0.1868,  0.1250]]],\n",
      "\n",
      "\n",
      "        [[[-0.3135, -0.0523,  0.3244],\n",
      "          [ 0.0432,  0.1718, -0.0651],\n",
      "          [-0.2439,  0.1818, -0.0424]]],\n",
      "\n",
      "\n",
      "        [[[ 0.3075, -0.3307, -0.0868],\n",
      "          [ 0.3084, -0.1053,  0.0849],\n",
      "          [ 0.2081, -0.2702, -0.2495]]],\n",
      "\n",
      "\n",
      "        [[[-0.1015,  0.1432, -0.3130],\n",
      "          [-0.1354,  0.1005,  0.2737],\n",
      "          [-0.3139,  0.0719, -0.2523]]],\n",
      "\n",
      "\n",
      "        [[[-0.1419, -0.3212, -0.1045],\n",
      "          [-0.2833, -0.1199, -0.2126],\n",
      "          [-0.1816, -0.0595,  0.1358]]],\n",
      "\n",
      "\n",
      "        [[[ 0.0620, -0.3202, -0.0452],\n",
      "          [ 0.0804,  0.1703,  0.0109],\n",
      "          [ 0.1655,  0.0207, -0.2119]]],\n",
      "\n",
      "\n",
      "        [[[-0.0654,  0.1380,  0.3017],\n",
      "          [-0.1028, -0.1014,  0.0161],\n",
      "          [ 0.1197,  0.0353,  0.2187]]],\n",
      "\n",
      "\n",
      "        [[[-0.2106,  0.2669, -0.0137],\n",
      "          [ 0.1903, -0.3266, -0.2172],\n",
      "          [-0.2991,  0.3180, -0.3082]]],\n",
      "\n",
      "\n",
      "        [[[-0.2679, -0.0289,  0.0075],\n",
      "          [-0.3317,  0.3030, -0.0732],\n",
      "          [ 0.1274, -0.3217, -0.0687]]],\n",
      "\n",
      "\n",
      "        [[[ 0.2403,  0.0055,  0.0091],\n",
      "          [ 0.2150, -0.1288, -0.2154],\n",
      "          [ 0.2872,  0.0526, -0.0961]]],\n",
      "\n",
      "\n",
      "        [[[-0.2643, -0.0819, -0.2339],\n",
      "          [ 0.2269,  0.1215, -0.0124],\n",
      "          [-0.1800,  0.2258, -0.0713]]],\n",
      "\n",
      "\n",
      "        [[[-0.0610,  0.2835,  0.2896],\n",
      "          [-0.0867,  0.1796, -0.3165],\n",
      "          [ 0.2206, -0.1511,  0.1313]]],\n",
      "\n",
      "\n",
      "        [[[-0.3180,  0.0615,  0.2584],\n",
      "          [ 0.2241,  0.2502, -0.1442],\n",
      "          [ 0.2836,  0.1439,  0.0918]]],\n",
      "\n",
      "\n",
      "        [[[ 0.2155, -0.0447, -0.2130],\n",
      "          [-0.3227, -0.1375,  0.2740],\n",
      "          [ 0.0837, -0.0196,  0.1113]]],\n",
      "\n",
      "\n",
      "        [[[ 0.2820,  0.1417, -0.3243],\n",
      "          [ 0.1464,  0.2205, -0.3088],\n",
      "          [-0.1957, -0.1227, -0.0351]]],\n",
      "\n",
      "\n",
      "        [[[ 0.0279, -0.0907, -0.2407],\n",
      "          [-0.2292, -0.1499,  0.1848],\n",
      "          [-0.2985,  0.1935,  0.0707]]],\n",
      "\n",
      "\n",
      "        [[[-0.1101,  0.0051, -0.1817],\n",
      "          [-0.3068,  0.2666,  0.2830],\n",
      "          [-0.1826, -0.2591, -0.0550]]],\n",
      "\n",
      "\n",
      "        [[[ 0.2680, -0.0947, -0.0723],\n",
      "          [-0.2027,  0.1199, -0.1722],\n",
      "          [-0.0505,  0.3050,  0.1038]]],\n",
      "\n",
      "\n",
      "        [[[-0.2490,  0.2645, -0.2297],\n",
      "          [ 0.0370, -0.2513, -0.3318],\n",
      "          [-0.1110, -0.2867,  0.0291]]],\n",
      "\n",
      "\n",
      "        [[[-0.2455, -0.2736,  0.2727],\n",
      "          [ 0.2082,  0.2735, -0.1167],\n",
      "          [ 0.0309, -0.2012, -0.0084]]],\n",
      "\n",
      "\n",
      "        [[[-0.1945,  0.2601,  0.2786],\n",
      "          [ 0.3089, -0.0934, -0.1580],\n",
      "          [-0.1165,  0.3122, -0.0667]]],\n",
      "\n",
      "\n",
      "        [[[ 0.2053,  0.0328, -0.1014],\n",
      "          [-0.1005, -0.1396, -0.1280],\n",
      "          [-0.2840,  0.2385,  0.0570]]],\n",
      "\n",
      "\n",
      "        [[[ 0.1113,  0.1683,  0.1686],\n",
      "          [-0.1072,  0.1938, -0.0416],\n",
      "          [-0.2583, -0.1988,  0.3271]]],\n",
      "\n",
      "\n",
      "        [[[-0.1807, -0.0933,  0.0967],\n",
      "          [-0.1843, -0.1744,  0.3268],\n",
      "          [-0.3058, -0.2060, -0.2852]]],\n",
      "\n",
      "\n",
      "        [[[ 0.2513, -0.3296, -0.2569],\n",
      "          [-0.3049,  0.2691, -0.1597],\n",
      "          [ 0.0332, -0.0321,  0.0562]]],\n",
      "\n",
      "\n",
      "        [[[ 0.2205,  0.0868, -0.1441],\n",
      "          [-0.1592, -0.2644,  0.1383],\n",
      "          [-0.1565, -0.1130, -0.0318]]]], requires_grad=True), Parameter containing:\n",
      "tensor([ 0.0609,  0.2871,  0.1976,  0.1025,  0.2235, -0.2587, -0.1764, -0.2240,\n",
      "        -0.0116, -0.3052, -0.2859,  0.0093, -0.0944,  0.1515, -0.1165,  0.2061,\n",
      "         0.2997,  0.2522,  0.0281,  0.1448, -0.1984, -0.1338,  0.3208, -0.2979,\n",
      "         0.1704,  0.3221, -0.2566, -0.2034,  0.0249, -0.3231,  0.1267,  0.2478],\n",
      "       requires_grad=True), Parameter containing:\n",
      "tensor([[-6.2954e-03, -1.1926e-02, -4.0490e-03,  ...,  9.1993e-03,\n",
      "          4.6268e-03, -7.9180e-03],\n",
      "        [ 7.6847e-03, -1.1097e-02, -1.1154e-02,  ...,  7.0036e-04,\n",
      "          2.5670e-05,  7.0423e-03],\n",
      "        [ 2.9629e-03,  7.6711e-03,  8.5860e-03,  ...,  3.5813e-03,\n",
      "          1.0210e-02,  8.8936e-03],\n",
      "        ...,\n",
      "        [ 1.2598e-02, -9.8912e-03,  6.1761e-03,  ..., -5.8390e-03,\n",
      "          9.6857e-03, -3.7106e-03],\n",
      "        [ 1.1552e-02, -4.4808e-03, -7.9844e-03,  ...,  5.0697e-04,\n",
      "          4.3371e-04, -1.2634e-03],\n",
      "        [-8.9914e-03,  8.7787e-03,  5.6831e-03,  ...,  4.2353e-03,\n",
      "         -1.1534e-02,  2.0237e-03]], requires_grad=True), Parameter containing:\n",
      "tensor([-9.7047e-03,  1.0790e-02, -1.1395e-02, -7.7870e-03,  1.1254e-02,\n",
      "        -6.8369e-03, -3.4665e-03, -2.2431e-03, -6.6823e-03, -2.8838e-03,\n",
      "         5.5661e-03,  9.0932e-06,  1.2214e-03, -1.0792e-02,  1.2584e-02,\n",
      "        -8.2005e-03,  6.3335e-03,  3.7472e-03,  2.8553e-03, -2.2535e-03,\n",
      "        -1.0245e-02, -6.2038e-03, -6.2650e-03, -6.6128e-04,  4.2758e-03,\n",
      "        -2.2687e-03, -7.6969e-03, -8.7439e-03, -8.0314e-03,  1.2425e-02,\n",
      "        -1.1887e-03,  4.4061e-03,  5.2167e-03,  9.9637e-03, -9.8160e-03,\n",
      "         1.1732e-02, -1.8940e-03, -4.1310e-03, -4.9476e-03,  8.2259e-03,\n",
      "        -8.4616e-03,  1.0443e-02, -7.2825e-03,  2.8061e-03, -1.0076e-02,\n",
      "        -5.1358e-03, -1.5978e-03,  6.9319e-03, -1.2543e-02,  7.2819e-03,\n",
      "         5.1446e-03, -1.1175e-02,  5.4570e-03, -1.2043e-02, -4.6860e-03,\n",
      "         2.9977e-03, -2.0809e-03,  1.1570e-02,  1.0634e-02, -9.3377e-03,\n",
      "         8.8719e-04,  8.8915e-03, -5.5113e-03, -5.1990e-03, -7.7528e-03,\n",
      "         3.3776e-03, -4.0389e-03, -1.2601e-02, -1.6748e-03, -1.1889e-02,\n",
      "         1.7829e-03, -6.7741e-03,  1.1798e-02,  5.4742e-03, -7.6850e-03,\n",
      "         2.4044e-03, -4.3232e-03, -3.9257e-03,  5.2670e-03, -4.2716e-03,\n",
      "         2.7719e-03,  1.0856e-02, -5.1720e-03, -2.2582e-03, -5.9572e-03,\n",
      "        -2.6401e-03, -8.3023e-03, -1.0340e-02,  9.7836e-04,  4.6149e-03,\n",
      "        -7.5879e-03,  1.1542e-02,  3.1781e-03, -1.0636e-02, -5.2958e-04,\n",
      "        -3.8816e-03, -1.1634e-02, -5.9062e-04,  4.8361e-03, -5.7596e-03,\n",
      "        -1.1151e-02, -1.3579e-03, -6.9768e-03, -8.2561e-03, -1.3348e-03,\n",
      "         1.1010e-02,  1.5955e-03, -2.1081e-03,  1.2218e-02,  3.8431e-03,\n",
      "        -1.0252e-02,  8.8821e-03,  1.0383e-02, -8.2425e-03, -7.9404e-03,\n",
      "         8.2876e-03,  9.6143e-03,  1.1201e-02,  6.6831e-03,  1.1681e-02,\n",
      "        -6.9890e-03,  6.5923e-03, -9.5066e-03,  1.4291e-03,  1.0028e-02,\n",
      "         1.0750e-02,  8.6963e-03, -6.7254e-03], requires_grad=True), Parameter containing:\n",
      "tensor([[ 0.0175,  0.0598,  0.0618,  ..., -0.0359, -0.0785,  0.0010],\n",
      "        [ 0.0879,  0.0876, -0.0796,  ...,  0.0305, -0.0266, -0.0333],\n",
      "        [ 0.0481,  0.0390, -0.0090,  ..., -0.0376,  0.0320,  0.0632],\n",
      "        ...,\n",
      "        [ 0.0052,  0.0199, -0.0719,  ...,  0.0648, -0.0538, -0.0106],\n",
      "        [ 0.0108, -0.0773, -0.0791,  ..., -0.0844,  0.0766, -0.0323],\n",
      "        [ 0.0271,  0.0453, -0.0034,  ..., -0.0529,  0.0530, -0.0017]],\n",
      "       requires_grad=True), Parameter containing:\n",
      "tensor([ 0.0301,  0.0639,  0.0383, -0.0064, -0.0639,  0.0297, -0.0267,  0.0516,\n",
      "        -0.0636, -0.0140], requires_grad=True)]\n"
     ]
    }
   ],
   "source": [
    "#check  model has trainable parameters by printing them:\n",
    "model = CNN().to(device)\n",
    "print(list(model.parameters()))"
   ]
  },
  {
   "cell_type": "markdown",
   "metadata": {
    "id": "AjMK5CUDv-a_"
   },
   "source": [
    "** #5. Understanding Each Component\n",
    "\n",
    "# a. nn.Conv2d(in_channels, out_channels, kernel_size, stride, padding)\n",
    "\n",
    "in_channels: Number of input channels (1 for grayscale images).\n",
    "\n",
    "out_channels: Number of filters (32 in this case).\n",
    "\n",
    "kernel_size: Size of the filter (3x3 here).\n",
    "\n",
    "stride: Steps the filter moves (1 here).\n",
    "\n",
    "padding: Adds padding around the image to maintain dimensions.\n",
    "\n",
    "\n",
    "# b. nn.MaxPool2d(kernel_size, stride)\n",
    "\n",
    "Reduces spatial dimensions by taking the maximum value in a region.\n",
    "\n",
    "\n",
    "# c. nn.Linear(in_features, out_features)\n",
    "\n",
    "Fully connected layers where each input node is connected to every output node.\n",
    "\n",
    "\n",
    "# d. torch.relu(x)\n",
    "\n",
    "Applies the ReLU activation function, setting all negative values to 0.\n",
    "\n",
    "\n",
    "# e. x.view(x.size(0), -1)\n",
    "\n",
    "Flattens the output tensor to prepare it for the fully connected layer.\n",
    "\n",
    "\n",
    "**"
   ]
  },
  {
   "cell_type": "code",
   "execution_count": null,
   "metadata": {
    "id": "4M4TdSPnwfvI"
   },
   "outputs": [],
   "source": [
    "#6. Initializing the Model, Loss Function, and Optimizer\n",
    "\n",
    "device = torch.device('cuda' if torch.cuda.is_available() else 'cpu')#compute unified device architecture\n",
    "model = CNN().to(device)\n",
    "criterion = nn.CrossEntropyLoss()  # Loss function for classification - many value(cross entropy loss is used in this case), regression- one value(mse is used mean square error)\n",
    "optimizer = optim.Adam(model.parameters(), lr=0.001)  # Adam optimizer"
   ]
  },
  {
   "cell_type": "markdown",
   "metadata": {},
   "source": [
    "The expression can be written in LaTeX as:\n",
    "\n",
    "$$\n",
    "-\\frac{1}{n} \\sum \\left( y_{\\text{actual}} \\cdot \\log(y_{\\text{pred}}) \\right)\n",
    "$$\n",
    "\n",
    "This represents the formula for the cross-entropy loss, often used in classification problems."
   ]
  },
  {
   "cell_type": "code",
   "execution_count": null,
   "metadata": {
    "colab": {
     "base_uri": "https://localhost:8080/"
    },
    "id": "ujAmgNfC1Ggc",
    "outputId": "29da1e23-54e0-4916-892b-cd3dd81e1bbb"
   },
   "outputs": [
    {
     "name": "stdout",
     "output_type": "stream",
     "text": [
      "Epoch [1/5], Loss: 0.2057\n",
      "Epoch [2/5], Loss: 0.0699\n",
      "Epoch [3/5], Loss: 0.0467\n",
      "Epoch [4/5], Loss: 0.0352\n",
      "Epoch [5/5], Loss: 0.0262\n"
     ]
    }
   ],
   "source": [
    "# 7. Training the Model\n",
    "\n",
    "# Training loop\n",
    "epochs = 5\n",
    "for epoch in range(epochs):\n",
    "    model.train()  # Set model to training mode, ANN complete utility in one line.\n",
    "    running_loss = 0.0\n",
    "\n",
    "    for images, labels in train_loader:\n",
    "        images, labels = images.to(device), labels.to(device)# label ground truth\n",
    "\n",
    "        optimizer.zero_grad()  # Zero out gradients\n",
    "        outputs = model(images)  # Forward pass\n",
    "        loss = criterion(outputs, labels)  # Compute loss\n",
    "        loss.backward()  # Backpropagation\n",
    "        optimizer.step()  # Update weights\n",
    "\n",
    "        running_loss += loss.item()\n",
    "\n",
    "    print(f\"Epoch [{epoch+1}/{epochs}], Loss: {running_loss/len(train_loader):.4f}\")\n"
   ]
  },
  {
   "cell_type": "code",
   "execution_count": null,
   "metadata": {
    "colab": {
     "base_uri": "https://localhost:8080/"
    },
    "id": "yBayiX552iHI",
    "outputId": "e9592906-bc28-4ae2-b5e2-7fee354ad3f5"
   },
   "outputs": [
    {
     "name": "stdout",
     "output_type": "stream",
     "text": [
      "Test Accuracy: 98.49%\n"
     ]
    }
   ],
   "source": [
    "#8. Evaluating the Model\n",
    "\n",
    "# Evaluation loop\n",
    "model.eval()  # Set model to evaluation mode\n",
    "correct = 0\n",
    "total = 0\n",
    "\n",
    "with torch.no_grad():\n",
    "    for images, labels in test_loader:\n",
    "        images, labels = images.to(device), labels.to(device)\n",
    "        outputs = model(images)\n",
    "        _, predicted = torch.max(outputs.data, 1)  # Get class with highest score\n",
    "        total += labels.size(0)\n",
    "        correct += (predicted == labels).sum().item()\n",
    "\n",
    "print(f\"Test Accuracy: {100 * correct / total:.2f}%\")\n",
    "\n",
    "\n"
   ]
  },
  {
   "cell_type": "code",
   "execution_count": null,
   "metadata": {
    "colab": {
     "base_uri": "https://localhost:8080/",
     "height": 452
    },
    "id": "ROzcAT9O2w8o",
    "outputId": "0b3a57c3-3bb2-4ed3-8cb2-4e323a856c8f"
   },
   "outputs": [
    {
     "data": {
      "image/png": "[encoded data removed]",
      "text/plain": [
       "<Figure size 640x480 with 1 Axes>"
      ]
     },
     "metadata": {},
     "output_type": "display_data"
    }
   ],
   "source": [
    "#9. Visualizing Results\n",
    "\n",
    "# Display a sample image and prediction\n",
    "import numpy as np\n",
    "\n",
    "sample_image, sample_label = next(iter(test_loader))\n",
    "sample_image = sample_image[0].to(device)\n",
    "sample_label = sample_label[0].item()\n",
    "\n",
    "output = model(sample_image.unsqueeze(0))\n",
    "_, predicted_label = torch.max(output.data, 1)\n",
    "\n",
    "plt.imshow(sample_image.cpu().squeeze(), cmap='gray')\n",
    "plt.title(f\"True Label: {sample_label}, Predicted: {predicted_label.item()}\")\n",
    "plt.show()\n",
    "\n"
   ]
  },
  {
   "cell_type": "markdown",
   "metadata": {
    "id": "Xv8QsuCZ23-j"
   },
   "source": [
    "**10. Summary of Workflow\n",
    "\n",
    "1. Preprocessing: Load and normalize data.\n",
    "\n",
    "\n",
    "2. Model Architecture: Define a CNN with convolutional, pooling, and fully connected layers.\n",
    "\n",
    "\n",
    "3. Training: Use the loss function and optimizer to update weights.\n",
    "\n",
    "\n",
    "4. Evaluation: Measure performance on test data.\n",
    "\n",
    "\n",
    "5. Visualization: Inspect predictions for sample inputs.\n",
    "\n",
    "\n",
    "\n",
    "**"
   ]
  }
 ],
 "metadata": {
  "colab": {
   "provenance": []
  },
  "kernelspec": {
   "display_name": "Python 3",
   "name": "python3"
  },
  "language_info": {
   "codemirror_mode": {
    "name": "ipython",
    "version": 3
   },
   "file_extension": ".py",
   "mimetype": "text/x-python",
   "name": "python",
   "nbconvert_exporter": "python",
   "pygments_lexer": "ipython3",
   "version": "3.12.6"
  }
 },
 "nbformat": 4,
 "nbformat_minor": 0
}
